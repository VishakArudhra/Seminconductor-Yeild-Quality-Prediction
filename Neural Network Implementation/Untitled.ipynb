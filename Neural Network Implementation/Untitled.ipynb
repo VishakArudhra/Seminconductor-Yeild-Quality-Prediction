{
 "cells": [
  {
   "cell_type": "code",
   "execution_count": null,
   "id": "divided-colony",
   "metadata": {},
   "outputs": [],
   "source": [
    "import re\n",
    "from tkinter import *\n",
    "import tkinter as tk\n",
    "from tkinter import filedialog\n",
    "from tkinter import messagebox  \n",
    "\n",
    "# from sklearn.externals import joblib \n",
    "import skimage\n",
    "from skimage.io import imread\n",
    "from skimage.transform import resize\n",
    "import numpy as np\n",
    "\n",
    "from PIL import ImageTk, Image\n",
    "\n",
    "# clf = joblib.load('file_1000_40x40.pkl') \n",
    "global a\n",
    "\n",
    "regex = '^\\w([\\.-]?\\w+)*@\\w([\\.-]?\\w+)*(\\.\\w{2,3})+$'\n",
    "\n",
    "def filedreq():\n",
    "\tif Fname.get() == \"\":\n",
    "\t\tprint(\"First Name Field is Empty!!\")\n",
    "\t\tuser = \"First Name Field is Empty!!\"\n",
    "\t\tLabel(win,text=user,fg=\"blue\",bg=\"yellow\",font = (\"Calibri 10 bold\")).place(x=12,y=460)\n",
    "\n",
    "\n",
    "\telif Lname.get() == \"\":\n",
    "\t\tprint(\"Last Name Field is Empty!!\")\n",
    "\t\tuser = \"Last Name Field is Empty!!\"\n",
    "\t\tLabel(win,text=user,fg=\"blue\",bg=\"yellow\",font = (\"Calibri 10 bold\")).place(x=12,y=460)\n",
    "\n",
    "\telif Email.get() == \"\":\n",
    "\t\tprint(\"Email Field is Empty!!\")\n",
    "\t\tuser = \"Email Field is Empty!!\"\n",
    "\t\tLabel(win,text=user,fg=\"blue\",bg=\"yellow\",font = (\"Calibri 10 bold\")).place(x=12,y=460)\n",
    "\n",
    "\telif Phone.get() == \"\":\n",
    "\t\tprint(\"Phone Field is Empty!!\")\n",
    "\t\tuser = \"Phone Field is Empty!!\"\n",
    "\t\tLabel(win,text=user,fg=\"blue\",bg=\"yellow\",font = (\"Calibri 10 bold\")).place(x=12,y=460)\n",
    "\n",
    "\telif entry_Address.compare(\"end-1c\", \"==\", \"1.0\"):     # or else  if len(text.get(\"1.0\", \"end-1c\")) == 0:\n",
    "\t\tprint(\"Address Field is Empty!!\")\n",
    "\t\tuser = \"Address Field is Empty!!\"\n",
    "\t\tLabel(win,text=user,fg=\"blue\",bg=\"yellow\",font = (\"Calibri 10 bold\")).place(x=12,y=460)\n",
    "\telse:\n",
    "\t\tcheckemail()\n",
    "\n",
    "def checkemail():\n",
    "\temail = Email.get()\n",
    "\n",
    "\tif(re.search(regex,email)):\n",
    "\t\t# print(\"Valid Email\")\n",
    "\t\tuser = \"Valid Email!!\"\n",
    "\t\t# Label(win,text=user,fg=\"blue\",bg=\"yellow\",font = (\"Calibri 10 bold\")).place(x=12,y=460)\n",
    "\t\ttest()\n",
    "\telse:\n",
    "\t\tprint(\"Invalid Email!!\")\n",
    "\t\tuser = \"Invalid Email-Type!! Type Correct Mail: Format: xyz@abc.com\"\n",
    "\t\tLabel(win,text=user,fg=\"blue\",bg=\"yellow\",font = (\"Calibri 12 bold\")).place(x=12,y=460)\n",
    "\n",
    "\n",
    "def browse():\n",
    "\tfilename = filedialog.askopenfilename(filetypes = ((\"All Files\",\"*.*\"),(\"File\",\"*.py\")))\n",
    "\tpath.config(text = filename)\n",
    "\t\n",
    "\ta = filename\n",
    "\tglobal file \n",
    "\tfile = a\n",
    "\t# print(a)\n",
    "\n",
    "\n",
    "def test():\n",
    "\tprint(\"Testing...\")\n",
    "\t# Test code will go here....\n",
    "\n",
    "\tdimension=(40, 40)\n",
    "\timages = []\n",
    "\tflat_data = []\n",
    "\n",
    "\t# print(\"file\",file)\n",
    "\t# file = 'data/test/Uni/y.png'\n",
    "\timg = skimage.io.imread(file)\n",
    "\t# print(img)\n",
    "\timg_resized = resize(img, dimension, anti_aliasing=True, mode='reflect')\n",
    "\tflat_data.append(img_resized.flatten()) \n",
    "\timages.append(img_resized)\n",
    "\tflat_data = np.array(flat_data)\n",
    "\t# print(flat_data)\n",
    "\n",
    "\tresult = clf.predict(flat_data)\n",
    "\t# print(result)\n",
    "\tif result[0] == 0:\n",
    "\t    print(\"Infected\")\n",
    "\t    person = Fname.get()\n",
    "\t    user = person + ' is Infected By Malaria!!!'\n",
    "\t    a = user\n",
    "\t    Label(win,text=\"                                                              \",fg=\"red\",bg=\"white\",font = (\"Calibri 12 bold\")).place(x=12,y=460)\n",
    "\t    Label(win,text=user,fg=\"red\",bg=\"white\",font = (\"Calibri 12 bold\")).place(x=12,y=460)\n",
    "\t    MsgBox = tk.messagebox.showwarning ('warning','Parasite Found!! \\nEat Vegetables, Fruits, Milk Products, Fish, Sugar With Honey!!',icon = 'warning')\n",
    "\telse:\n",
    "\t    print(\"Uninfected\")\n",
    "\t    person = Fname.get()\n",
    "\t    user = person + ' is NOT  Infected By Malaria!!!'\n",
    "\t    a = user\n",
    "\t    Label(win,text=\". \",fg=\"red\",bg=\"white\",font = (\"Calibri 12 bold\")).place(x=12,y=460)\n",
    "\t    Label(win,text=user,fg=\"blue\",bg=\"yellow\",font = (\"Calibri 12 bold\")).place(x=12,y=460)\n",
    "\t    MsgBox = tk.messagebox.showinfo ('information','Parasite Not Found!! \\nPateint is at Less Risk!! \\nEat Vegetables, Fruits, Milk Products, Fish, Sugar With Honey!!')\n",
    "\n",
    "\t# After Test, save() will execute\n",
    "\tsave(a)\n",
    "\n",
    "def save(a):\n",
    "\t\n",
    "\tFirst = Fname.get()\n",
    "\tLast = Lname.get()\n",
    "\temail = Email.get()\n",
    "\taddress = entry_Address.get(1.0,END)\n",
    "\tphone = Phone.get()\n",
    "\tgender = str(radio.get())\n",
    "\tsave_name = First+\".txt\"  \n",
    "\t\n",
    "\tfile = open(save_name,\"a\")\n",
    "\tfile.write(\"\\n\\nFirst Name: \"+First+\"\\n\")\n",
    "\tfile.write(\"Last Name: \"+Last+\"\\n\")\n",
    "\tfile.write(\"Phone: \"+phone+\"\\n\")\n",
    "\tfile.write(\"Email: \"+email+\"\\n\")\n",
    "\tfile.write(\"Address \"+address)\n",
    "\tfile.write(\"Gender: \"+gender+\"\\n\")\n",
    "\tfile.write(\"Report: \"+ a +\"\\n\")\n",
    "\tfile.close()\n",
    "\treport = First + \"'s Health Detection have successfully done and Report is saved in \"+First+\".txt\"\n",
    "\tLabel(win,text=report,fg=\"blue\",bg=\"yellow\",font = (\"Calibri 10 bold\")).place(x=12,y=500)\n",
    "\t# print(\"Printing Data: \")\n",
    "\t# print(First,Last,phone,email,address,gender)\n",
    "\n",
    "def reset():\n",
    "\tFname.set(\"\")\n",
    "\tLname.set(\"\")\n",
    "\tEmail.set(\"\")\n",
    "\tPhone.set(\"\")\n",
    "\tentry_Address.delete(1.0,END)\n",
    "\n",
    "\n",
    "win =  Tk()\n",
    "\n",
    "win.geometry(\"420x520\")\n",
    "win.configure(background=\"cyan\")\n",
    "win.title(\"Malaria Detector By Hitesh\")\n",
    "# win.iconbitmap('icon.ico')\n",
    "\n",
    "title = Label(win,text=\"Unmask The Malaria\",bg=\"gray\",width=\"300\",height=\"2\",fg=\"White\",font = (\"Calibri 20 bold italic underline\")).pack()\n",
    "\n",
    "my_img = ImageTk.PhotoImage(Image.open(\"image.png\"))\n",
    "my_label = Label(image=my_img)\n",
    "my_label.place(x=340,y=0)\n",
    "\n",
    "Fname = Label(win, text=\"First name: \",bg=\"cyan\",font = (\"Verdana 12\")).place(x=12,y=100)\n",
    "gap = Label(win,text=\"\",bg=\"cyan\").pack()\n",
    "\n",
    "Lname = Label(win, text=\"Last name: \",bg=\"cyan\",font = (\"Verdana 12\")).place(x=12,y=140)\n",
    "gap = Label(win,text=\"\",bg=\"cyan\").pack()\n",
    "\n",
    "email = Label(win, text=\"Email ID: \",bg=\"cyan\",font = (\"Verdana 12\")).place(x=12,y=180)\n",
    "gap = Label(win,text=\"\",bg=\"cyan\").pack()\n",
    "\n",
    "Phone = Label(win, text=\"Phone: \",bg=\"cyan\",font = (\"Verdana 12\")).place(x=12,y=220)\n",
    "gap = Label(win,text=\"\",bg=\"cyan\").pack()\n",
    "\n",
    "Address = Label(win, text=\"Address: \",bg=\"cyan\",font = (\"Verdana 12\")).place(x=12,y=260)\n",
    "gap = Label(win,text=\"\",bg=\"cyan\").pack()\n",
    "\n",
    "Gender = Label(win, text=\"Gender: \",bg=\"cyan\",font = (\"Verdana 12\")).place(x=12,y=300)\n",
    "radio = StringVar()\n",
    "Male = Radiobutton(win, text=\"Male\",bg=\"cyan\",variable=radio,value=\"Male\",font = (\"Verdana 12\")).place(x=12,y=340)\n",
    "Female = Radiobutton(win, text=\"Female\",bg=\"cyan\",variable=radio,value=\"Female\",font = (\"Verdana 12\")).place(x=120,y=340)\n",
    "gap = Label(win,text=\"\",bg=\"cyan\").pack()\n",
    "\n",
    "\n",
    "Fname = StringVar()\n",
    "Lname = StringVar()\n",
    "Email = StringVar()\n",
    "Phone = StringVar()\n",
    "Address  = StringVar()\n",
    "Gender = StringVar()\n",
    "Courses  = StringVar()\n",
    "\n",
    "\n",
    "entry_Fname = Entry(win,textvariable = Fname,width=30)\n",
    "entry_Fname.place(x=120,y=100)\n",
    "entry_Lname = Entry(win,textvariable = Lname,width=30)\n",
    "entry_Lname.place(x=120,y=140)\n",
    "entry_email = Entry(win,textvariable = Email,width=30)\n",
    "entry_email.place(x=120,y=180)\n",
    "entry_Phone = Entry(win,textvariable = Phone,width=30)\n",
    "entry_Phone.place(x=120,y=220)\n",
    "entry_Address = Text(win,height=2,width=23)\n",
    "entry_Address.place(x=119,y=260)\n",
    "\n",
    "path = Label(win,bg=\"cyan\",font = (\"Verdana 8\"))\n",
    "path.place(x=140,y=380)\n",
    "upload = Button(win, text=\"Load\", width=\"12\",height=\"1\",activebackground=\"blue\", bg=\"Pink\",font = (\"Calibri 12 \"),command = browse).place(x=20, y=380)\n",
    "\n",
    "train_reg = Button(win, text=\"regress\", width=\"12\",height=\"1\",activebackground=\"red\", bg=\"Pink\",font = (\"Calibri 12 \"),command = reg_train).place(x=20, y=420)\n",
    "train_class = Button(win, text=\"classify\", width=\"12\",height=\"1\",activebackground=\"violet\", bg=\"Pink\",command = class_train,font = (\"Calibri 12 \")).place(x=240, y=420)\n"
   ]
  },
  {
   "cell_type": "code",
   "execution_count": null,
   "id": "demographic-finding",
   "metadata": {},
   "outputs": [],
   "source": [
    "\n",
    "\n",
    "win.mainloop()"
   ]
  },
  {
   "cell_type": "code",
   "execution_count": 5,
   "id": "extra-security",
   "metadata": {},
   "outputs": [],
   "source": [
    "\n",
    "import re\n",
    "from tkinter import *\n",
    "import tkinter as tk\n",
    "from tkinter import filedialog\n",
    "from tkinter import messagebox  \n",
    "\n",
    "# from sklearn.externals import joblib \n",
    "import skimage\n",
    "from skimage.io import imread\n",
    "from skimage.transform import resize\n",
    "import numpy as np\n",
    "import pandas as pd\n",
    "global a\n",
    "\n",
    "# %tensorflow_version 2.x\n",
    "# import tensorflow as tf\n",
    "# tf.__version__\n",
    "\n",
    "\n",
    "import numpy as np\n",
    "import pandas as pd\n",
    "import matplotlib.pyplot as plt\n",
    "import seaborn as sns \n",
    "%matplotlib inline \n",
    "sns.set(color_codes = True)\n",
    "\n",
    "\n",
    "# from sklearn.preprocessing import LabelEncoder\n",
    "# from keras.wrappers.scikit_learn import KerasClassifier\n",
    "# from keras.utils import np_utils\n",
    "\n",
    "\n",
    "win =  Tk()\n",
    "\n",
    "win.geometry(\"420x520\")\n",
    "win.configure(background=\"cyan\")\n",
    "win.title(\"Malaria Detector By Hitesh\")\n",
    "# win.iconbitmap('icon.ico')\n",
    "\n",
    "title = Label(win,text=\"Unmask The Malaria\",bg=\"gray\",width=\"300\",height=\"2\",fg=\"White\",font = (\"Calibri 20 bold italic underline\")).pack()\n",
    "\n",
    "\n",
    "# submit = Button(win, text=\"Test\", width=\"12\",height=\"1\",activebackground=\"violet\", bg=\"Pink\",command = filedreq,font = (\"Calibri 12 \")).place(x=240, y=420)\n",
    "\n",
    "\n",
    "# reset = Button(win, text=\"Reset\", width=\"12\",height=\"1\",activebackground=\"red\", bg=\"Pink\",font = (\"Calibri 12 \"),command = reset).place(x=20, y=420)\n",
    "\n",
    "\n",
    "path = Label(win,bg=\"cyan\",font = (\"Verdana 8\"))\n",
    "path.place(x=140,y=380)\n",
    "\n",
    "\n",
    "# def browse():\n",
    "#     filename = filedialog.askopenfilename(filetypes = ((\"All Files\",\"*.*\"),(\"File\",\"*.csv\")))\n",
    "#     path.config(text = filename) \n",
    "#     a = filename\n",
    "#     global file \n",
    "#     file = a\n",
    "#     print(a)\n",
    "#     df = pd.read_csv(a)\n",
    "#     columns = df.iloc[:,0:-1]\n",
    "    \n",
    "# def get_target():\n",
    "    \n",
    "#     target = df.iloc[:,-1]\n",
    "        \n",
    "    \n",
    "# def reg_train():\n",
    "    \n",
    "#     from tensorflow.keras import optimizers, regularizers\n",
    "\n",
    "\n",
    "\n",
    "#     ## hyperparameters\n",
    "#     iterations = 2000\n",
    "#     learning_rate = 0.014\n",
    "#     hidden_nodes = 256\n",
    "#     output_nodes = 10\n",
    "#     Lambda = 2.9\n",
    "\n",
    "#     model = Sequential()\n",
    "#     model.add(Dense(8, input_shape = (11,),kernel_initializer='he_normal',activation=None))\n",
    "#     model.add(BatchNormalization())\n",
    "#     model.add(Dense(8, activation='relu'))\n",
    "#     model.add(Dense(94,activation='relu'))\n",
    "#     model.add(Dense(1,activation='linear', kernel_regularizer=regularizers.l2(Lambda)))\n",
    "\n",
    "#     sgd = optimizers.SGD(lr=learning_rate, decay=1e-6, momentum=0.9)\n",
    "#     # Compile model\n",
    "#     model.compile(loss='mse', optimizer=sgd, metrics=['mse'])\n",
    "    \n",
    "#     # Fit the model\n",
    "#     model.fit(columns, target, epochs=iterations, batch_size=1000, verbose= 1)\n",
    "    \n",
    "    \n",
    "# def class_train():\n",
    "    \n",
    "#     encoder = LabelEncoder()\n",
    "#     encoder.fit(target)\n",
    "#     target1 = encoder.transform(target)\n",
    "#     target = np_utils.to_categorical(target1)\n",
    "    \n",
    "    \n",
    "#     iterations = iterations\n",
    "#     learning_rate = lr\n",
    "#     hidden_nodes = 256\n",
    "#     output_nodes = 10\n",
    "\n",
    "#     model = Sequential()\n",
    "#     model.add(Dense(8, input_shape = (11,),kernel_initializer='he_normal',activation=None))\n",
    "#     model.add(BatchNormalization())\n",
    "#     model.add(Dense(8, activation='relu'))\n",
    "#     model.add(Dense(94,activation='relu'))\n",
    "#     model.add(Dense(6,activation='softmax', kernel_regularizer=regularizers.l2(Lambda)))\n",
    "\n",
    "#     sgd = optimizers.SGD(lr=learning_rate, decay=1e-6, momentum=0.9)\n",
    "#     # Compile model\n",
    "#     model.compile(loss='categorical_crossentropy', optimizer=sgd, metrics=['accuracy'])\n",
    "    \n",
    "#     # Fit the model\n",
    "#     model.fit(columns, target, epochs=iterations, batch_size=1000, verbose= 1)\n",
    "    \n",
    "    \n",
    "\n",
    "load = Button(win, text=\"load_data\", width=\"12\",height=\"1\",activebackground=\"red\", bg=\"Pink\",font = (\"Calibri 12 \")).place(x=10, y=120)\n",
    "\n",
    "    \n",
    "targetor = Button(win, text=\"get_target\", width=\"12\",height=\"1\",activebackground=\"red\", bg=\"Pink\",font = (\"Calibri 12 \")).place(x=10, y=120)    \n",
    "    \n",
    "\n",
    "train_reg = Button(win, text=\"regress\", width=\"12\",height=\"1\",activebackground=\"red\", bg=\"Pink\",font = (\"Calibri 12 \")).place(x=20, y=420)\n",
    "train_class = Button(win, text=\"classify\", width=\"12\",height=\"1\",activebackground=\"violet\", bg=\"Pink\",font = (\"Calibri 12 \")).place(x=240, y=420)    \n",
    "    \n",
    "    \n",
    "            \n",
    "            \n",
    "            \n",
    "    \n",
    "            \n",
    "win.mainloop()\n",
    "    \n",
    "            \n",
    "    \n",
    "    \n",
    "    \n",
    "    \n",
    "\n",
    "    \n",
    "    \n",
    "  \n",
    "\n",
    "\n",
    "\n",
    "    \n",
    "    \n",
    "    \n",
    "\n",
    "\n",
    " \n",
    "\n",
    "\n",
    "\n",
    "\n",
    "\n",
    "\n",
    "\n",
    "\n",
    "\n",
    "\n",
    "\n",
    "\n",
    "\n",
    "\n",
    "\n",
    "\n",
    "\n",
    "\n",
    "\n",
    "\n"
   ]
  },
  {
   "cell_type": "code",
   "execution_count": 78,
   "id": "casual-annual",
   "metadata": {
    "colab": {
     "base_uri": "https://localhost:8080/"
    },
    "id": "dlZ4bscJNPcV",
    "outputId": "6b54caa4-77b7-4ff8-8946-6b8c87c17129"
   },
   "outputs": [
    {
     "data": {
      "text/plain": [
       "467     6\n",
       "917     6\n",
       "1323    7\n",
       "132     5\n",
       "256     5\n",
       "Name: Signal_Strength, dtype: int64"
      ]
     },
     "execution_count": 78,
     "metadata": {
      "tags": []
     },
     "output_type": "execute_result"
    }
   ],
   "source": [
    "y_train.head()"
   ]
  },
  {
   "cell_type": "code",
   "execution_count": 79,
   "id": "respected-promise",
   "metadata": {
    "colab": {
     "base_uri": "https://localhost:8080/"
    },
    "id": "ZS8lvgGTNPUO",
    "outputId": "f5f81c78-49d5-46ae-94d6-f32395fd1b70"
   },
   "outputs": [
    {
     "data": {
      "text/plain": [
       "LabelEncoder()"
      ]
     },
     "execution_count": 79,
     "metadata": {
      "tags": []
     },
     "output_type": "execute_result"
    }
   ],
   "source": [
    "encoder = LabelEncoder()\n",
    "encoder.fit(y_train)"
   ]
  },
  {
   "cell_type": "code",
   "execution_count": 80,
   "id": "gross-instrument",
   "metadata": {
    "id": "-eY62GVBNPLk"
   },
   "outputs": [],
   "source": [
    "y_train_le = encoder.transform(y_train)\n",
    "y_train_cat = np_utils.to_categorical(y_train_le)"
   ]
  },
  {
   "cell_type": "code",
   "execution_count": 81,
   "id": "sharp-aquarium",
   "metadata": {
    "id": "cArKJ9bdNPCU"
   },
   "outputs": [],
   "source": [
    "y_train_cat = np_utils.to_categorical(y_train_le)"
   ]
  },
  {
   "cell_type": "code",
   "execution_count": 82,
   "id": "social-station",
   "metadata": {
    "colab": {
     "base_uri": "https://localhost:8080/"
    },
    "id": "omAT4J5vNOOi",
    "outputId": "4c62ce1e-ea9f-461d-942d-6a792fc11bc9"
   },
   "outputs": [
    {
     "name": "stdout",
     "output_type": "stream",
     "text": [
      "[3 3 4 ... 2 2 1]\n"
     ]
    }
   ],
   "source": [
    "print(y_train_le)"
   ]
  },
  {
   "cell_type": "code",
   "execution_count": 83,
   "id": "bound-momentum",
   "metadata": {
    "colab": {
     "base_uri": "https://localhost:8080/"
    },
    "id": "UpOpv9w9Sj5D",
    "outputId": "f309e6f9-ffb9-4473-8c35-ba0a924ea2f0"
   },
   "outputs": [
    {
     "name": "stdout",
     "output_type": "stream",
     "text": [
      "[[0. 0. 0. 1. 0. 0.]\n",
      " [0. 0. 0. 1. 0. 0.]\n",
      " [0. 0. 0. 0. 1. 0.]\n",
      " ...\n",
      " [0. 0. 1. 0. 0. 0.]\n",
      " [0. 0. 1. 0. 0. 0.]\n",
      " [0. 1. 0. 0. 0. 0.]]\n"
     ]
    }
   ],
   "source": [
    "print(y_train_cat)"
   ]
  },
  {
   "cell_type": "code",
   "execution_count": 84,
   "id": "uniform-connectivity",
   "metadata": {
    "colab": {
     "base_uri": "https://localhost:8080/"
    },
    "id": "RhMjLDAsScLe",
    "outputId": "bca9f767-a925-4548-e308-ffb0d5c73592"
   },
   "outputs": [
    {
     "data": {
      "text/plain": [
       "(1119, 6)"
      ]
     },
     "execution_count": 84,
     "metadata": {
      "tags": []
     },
     "output_type": "execute_result"
    }
   ],
   "source": [
    "y_train_cat.shape"
   ]
  },
  {
   "cell_type": "code",
   "execution_count": 1,
   "id": "twelve-poultry",
   "metadata": {},
   "outputs": [],
   "source": [
    "import tensorflow as tf"
   ]
  },
  {
   "cell_type": "code",
   "execution_count": 2,
   "id": "a9d11d41",
   "metadata": {},
   "outputs": [
    {
     "name": "stdout",
     "output_type": "stream",
     "text": [
      "True\n",
      "True\n"
     ]
    }
   ],
   "source": [
    "print(tf.test.is_gpu_available())\n",
    "print(tf.test.is_built_with_cuda())"
   ]
  },
  {
   "cell_type": "code",
   "execution_count": null,
   "id": "c5006f7f",
   "metadata": {},
   "outputs": [],
   "source": []
  }
 ],
 "metadata": {
  "kernelspec": {
   "display_name": "Python 3",
   "language": "python",
   "name": "python3"
  },
  "language_info": {
   "codemirror_mode": {
    "name": "ipython",
    "version": 3
   },
   "file_extension": ".py",
   "mimetype": "text/x-python",
   "name": "python",
   "nbconvert_exporter": "python",
   "pygments_lexer": "ipython3",
   "version": "3.6.13"
  }
 },
 "nbformat": 4,
 "nbformat_minor": 5
}
